{
 "cells": [
  {
   "cell_type": "markdown",
   "id": "bbf88e81-b307-4c26-86b3-e4c8602d7684",
   "metadata": {},
   "source": [
    "# Imports"
   ]
  },
  {
   "cell_type": "code",
   "execution_count": 1,
   "id": "bca23ad8-c779-48ad-8e6e-1afd020a0c0f",
   "metadata": {},
   "outputs": [
    {
     "name": "stdout",
     "output_type": "stream",
     "text": [
      "Версия TensoFlow = 2.10.0\n",
      "Версия Keras = 2.10.0\n"
     ]
    }
   ],
   "source": [
    "import pandas as pd\n",
    "import numpy as np\n",
    "%matplotlib inline\n",
    "import matplotlib.pyplot as plt\n",
    "\n",
    "import warnings\n",
    "warnings.filterwarnings('ignore')\n",
    "\n",
    "from sklearn.metrics import mean_squared_error\n",
    "from sklearn.model_selection import train_test_split, GridSearchCV\n",
    "from sklearn.preprocessing import StandardScaler\n",
    "from sklearn.linear_model import LinearRegression, Ridge\n",
    "from sklearn.ensemble import RandomForestRegressor\n",
    "\n",
    "import tensorflow as tf\n",
    "import tensorflow.keras as keras\n",
    "import tensorflow.keras.models as M\n",
    "import tensorflow.keras.layers as L\n",
    "import tensorflow.keras.backend as K\n",
    "import tensorflow.keras.optimizers as O\n",
    "\n",
    "from tensorflow.keras.models import Sequential\n",
    "from tensorflow.keras.layers import Dense, Dropout, BatchNormalization\n",
    "from tensorflow.keras.callbacks import EarlyStopping, ModelCheckpoint, TensorBoard, ReduceLROnPlateau\n",
    "\n",
    "print('Версия TensoFlow =', tf.__version__)\n",
    "print('Версия Keras =', keras.__version__)"
   ]
  },
  {
   "cell_type": "markdown",
   "id": "9d690ba7-2929-4c63-a29f-1588c8426252",
   "metadata": {},
   "source": [
    "# Загрузка данных"
   ]
  },
  {
   "cell_type": "code",
   "execution_count": 2,
   "id": "bdb9877d-d771-4bfd-8cca-40d02867e8ad",
   "metadata": {},
   "outputs": [],
   "source": [
    "df = pd.read_csv('..\\data\\ebw_data.csv')"
   ]
  },
  {
   "cell_type": "code",
   "execution_count": 3,
   "id": "758fb58a-4781-4119-9e40-d16402bd5777",
   "metadata": {},
   "outputs": [
    {
     "data": {
      "text/html": [
       "<div>\n",
       "<style scoped>\n",
       "    .dataframe tbody tr th:only-of-type {\n",
       "        vertical-align: middle;\n",
       "    }\n",
       "\n",
       "    .dataframe tbody tr th {\n",
       "        vertical-align: top;\n",
       "    }\n",
       "\n",
       "    .dataframe thead th {\n",
       "        text-align: right;\n",
       "    }\n",
       "</style>\n",
       "<table border=\"1\" class=\"dataframe\">\n",
       "  <thead>\n",
       "    <tr style=\"text-align: right;\">\n",
       "      <th></th>\n",
       "      <th>IW</th>\n",
       "      <th>IF</th>\n",
       "      <th>VW</th>\n",
       "      <th>FP</th>\n",
       "      <th>Depth</th>\n",
       "      <th>Width</th>\n",
       "    </tr>\n",
       "  </thead>\n",
       "  <tbody>\n",
       "    <tr>\n",
       "      <th>0</th>\n",
       "      <td>47</td>\n",
       "      <td>139</td>\n",
       "      <td>4.5</td>\n",
       "      <td>80</td>\n",
       "      <td>1.60</td>\n",
       "      <td>2.54</td>\n",
       "    </tr>\n",
       "    <tr>\n",
       "      <th>1</th>\n",
       "      <td>47</td>\n",
       "      <td>139</td>\n",
       "      <td>4.5</td>\n",
       "      <td>80</td>\n",
       "      <td>1.62</td>\n",
       "      <td>2.50</td>\n",
       "    </tr>\n",
       "    <tr>\n",
       "      <th>2</th>\n",
       "      <td>47</td>\n",
       "      <td>139</td>\n",
       "      <td>4.5</td>\n",
       "      <td>80</td>\n",
       "      <td>1.68</td>\n",
       "      <td>2.60</td>\n",
       "    </tr>\n",
       "  </tbody>\n",
       "</table>\n",
       "</div>"
      ],
      "text/plain": [
       "   IW   IF   VW  FP  Depth  Width\n",
       "0  47  139  4.5  80   1.60   2.54\n",
       "1  47  139  4.5  80   1.62   2.50\n",
       "2  47  139  4.5  80   1.68   2.60"
      ]
     },
     "execution_count": 3,
     "metadata": {},
     "output_type": "execute_result"
    }
   ],
   "source": [
    "df.head(3)"
   ]
  },
  {
   "cell_type": "code",
   "execution_count": 4,
   "id": "f86f522f-ab91-4f34-ad7f-b20ce9b1d2dd",
   "metadata": {},
   "outputs": [],
   "source": [
    "y_depth = df['Depth']\n",
    "y_width = df['Width']"
   ]
  },
  {
   "cell_type": "code",
   "execution_count": 5,
   "id": "5b6a2c9a-dc2e-4a3b-a871-95bb8e224b44",
   "metadata": {},
   "outputs": [],
   "source": [
    "X = df.drop(['Depth', 'Width'], axis=1)"
   ]
  },
  {
   "cell_type": "code",
   "execution_count": 6,
   "id": "17ae911b-9486-4c2d-9aec-60fff6b61d75",
   "metadata": {},
   "outputs": [
    {
     "data": {
      "text/html": [
       "<div>\n",
       "<style scoped>\n",
       "    .dataframe tbody tr th:only-of-type {\n",
       "        vertical-align: middle;\n",
       "    }\n",
       "\n",
       "    .dataframe tbody tr th {\n",
       "        vertical-align: top;\n",
       "    }\n",
       "\n",
       "    .dataframe thead th {\n",
       "        text-align: right;\n",
       "    }\n",
       "</style>\n",
       "<table border=\"1\" class=\"dataframe\">\n",
       "  <thead>\n",
       "    <tr style=\"text-align: right;\">\n",
       "      <th></th>\n",
       "      <th>IW</th>\n",
       "      <th>IF</th>\n",
       "      <th>VW</th>\n",
       "      <th>FP</th>\n",
       "    </tr>\n",
       "  </thead>\n",
       "  <tbody>\n",
       "    <tr>\n",
       "      <th>0</th>\n",
       "      <td>47</td>\n",
       "      <td>139</td>\n",
       "      <td>4.5</td>\n",
       "      <td>80</td>\n",
       "    </tr>\n",
       "    <tr>\n",
       "      <th>1</th>\n",
       "      <td>47</td>\n",
       "      <td>139</td>\n",
       "      <td>4.5</td>\n",
       "      <td>80</td>\n",
       "    </tr>\n",
       "    <tr>\n",
       "      <th>2</th>\n",
       "      <td>47</td>\n",
       "      <td>139</td>\n",
       "      <td>4.5</td>\n",
       "      <td>80</td>\n",
       "    </tr>\n",
       "  </tbody>\n",
       "</table>\n",
       "</div>"
      ],
      "text/plain": [
       "   IW   IF   VW  FP\n",
       "0  47  139  4.5  80\n",
       "1  47  139  4.5  80\n",
       "2  47  139  4.5  80"
      ]
     },
     "execution_count": 6,
     "metadata": {},
     "output_type": "execute_result"
    }
   ],
   "source": [
    "X.head(3)"
   ]
  },
  {
   "cell_type": "markdown",
   "id": "19a0e772-3f68-4886-95c0-63e646f6e158",
   "metadata": {},
   "source": [
    "# EDA"
   ]
  },
  {
   "cell_type": "code",
   "execution_count": 7,
   "id": "89d5a914-29e0-441d-a0f1-28c24bf026db",
   "metadata": {},
   "outputs": [],
   "source": [
    "#TODO: "
   ]
  },
  {
   "cell_type": "markdown",
   "id": "ce05ab67-0288-4b29-a587-5b553a5692a3",
   "metadata": {},
   "source": [
    "# Modeling"
   ]
  },
  {
   "cell_type": "code",
   "execution_count": 8,
   "id": "5cbdbc8f-5941-4604-a823-7461396361ca",
   "metadata": {},
   "outputs": [],
   "source": [
    "X_train, X_test, y_d_train, y_d_test = train_test_split(X, y_depth, test_size=0.2, random_state=42)"
   ]
  },
  {
   "cell_type": "code",
   "execution_count": 9,
   "id": "83db05fc-71a7-4e9e-b207-65bd6fec5f1d",
   "metadata": {},
   "outputs": [],
   "source": [
    "X_train, X_test, y_w_train, y_w_test = train_test_split(X, y_width, test_size=0.2, random_state=42)"
   ]
  },
  {
   "cell_type": "code",
   "execution_count": 10,
   "id": "8c8b9fba-26ed-49db-96ca-98e6be61ce2a",
   "metadata": {},
   "outputs": [],
   "source": [
    "def grid_optimizer(model, X, y, param_grids):\n",
    "    gs = GridSearchCV(model, \n",
    "                      param_grid=param_grids, \n",
    "                      cv=5, \n",
    "                      scoring='neg_mean_squared_error')\n",
    "    gs.fit(X, y)\n",
    "    print(f\"Best MSE-score: {gs.best_score_}\")\n",
    "    print(f\"Best params: {gs.best_params_}\")\n",
    "    return gs.best_estimator_"
   ]
  },
  {
   "cell_type": "code",
   "execution_count": 11,
   "id": "55334c92-95d5-490b-b238-66eb2947abaa",
   "metadata": {},
   "outputs": [],
   "source": [
    "scaler = StandardScaler()\n",
    "X_train = scaler.fit_transform(X_train)\n",
    "X_test = scaler.transform(X_test)"
   ]
  },
  {
   "cell_type": "code",
   "execution_count": 12,
   "id": "9fa9b0b3",
   "metadata": {},
   "outputs": [
    {
     "data": {
      "text/plain": [
       "(array([ 1.72448198,  5.27664937,  1.88255506, 22.33003242]),\n",
       " array([ 45.71929825, 141.26315789,   8.88596491,  79.03508772]),\n",
       " array([  2.9738381 ,  27.84302862,   3.54401354, 498.6303478 ]))"
      ]
     },
     "execution_count": 12,
     "metadata": {},
     "output_type": "execute_result"
    }
   ],
   "source": [
    "scaler.scale_, scaler.mean_, scaler.var_\n"
   ]
  },
  {
   "cell_type": "markdown",
   "id": "410ac774-e07f-45f0-890f-1dcc53fb856e",
   "metadata": {},
   "source": [
    "## 1. RidgeRegression"
   ]
  },
  {
   "cell_type": "markdown",
   "id": "eefa4843-af7d-44a4-9119-25f6de592060",
   "metadata": {},
   "source": [
    "### a) Model for depth prediction"
   ]
  },
  {
   "cell_type": "code",
   "execution_count": 13,
   "id": "a9628238-8dd1-4fd3-b636-a591ffb53938",
   "metadata": {},
   "outputs": [],
   "source": [
    "r_d = Ridge(random_state=42)"
   ]
  },
  {
   "cell_type": "code",
   "execution_count": 14,
   "id": "23634222-4698-45bd-84eb-e3999c477412",
   "metadata": {},
   "outputs": [],
   "source": [
    "param_grid = {\n",
    "    'alpha': [0.2, 0.5, 0.8, 1],\n",
    "    'solver': ['auto', 'lbfgs', 'saga'],\n",
    "}"
   ]
  },
  {
   "cell_type": "code",
   "execution_count": 15,
   "id": "0f258d56-9e53-49f2-b053-70a9165ea4c3",
   "metadata": {},
   "outputs": [
    {
     "name": "stdout",
     "output_type": "stream",
     "text": [
      "Best MSE-score: -0.008533380130294022\n",
      "Best params: {'alpha': 0.2, 'solver': 'auto'}\n"
     ]
    }
   ],
   "source": [
    "best_r_d = grid_optimizer(r_d, X_train, y_d_train, param_grid)"
   ]
  },
  {
   "cell_type": "code",
   "execution_count": 16,
   "id": "965fe1b1-413a-4a5d-9129-c045b64a5ab1",
   "metadata": {},
   "outputs": [
    {
     "name": "stdout",
     "output_type": "stream",
     "text": [
      "RidgeRegression MSE-score: 0.021683206270686435\n"
     ]
    }
   ],
   "source": [
    "y_d_pred = best_r_d.predict(X_test)\n",
    "print(f'RidgeRegression MSE-score: {mean_squared_error(y_d_test, y_d_pred)}')"
   ]
  },
  {
   "cell_type": "markdown",
   "id": "86645475-925e-4a54-9772-18f2b3927d44",
   "metadata": {},
   "source": [
    "### b) Model for width prediction"
   ]
  },
  {
   "cell_type": "code",
   "execution_count": 17,
   "id": "bc550582-336b-4aca-b1ff-8ba8aa3ecbea",
   "metadata": {},
   "outputs": [],
   "source": [
    "r_w = Ridge(random_state=42)"
   ]
  },
  {
   "cell_type": "code",
   "execution_count": 18,
   "id": "4b26ec04-f296-4b67-b9f0-762c11145cac",
   "metadata": {},
   "outputs": [],
   "source": [
    "param_grid = {\n",
    "    'alpha': [0.2, 0.5, 0.8, 1],\n",
    "    'solver': ['auto', 'lbfgs', 'saga'],\n",
    "}"
   ]
  },
  {
   "cell_type": "code",
   "execution_count": 19,
   "id": "855b026b-7c6d-4b15-8591-0e92a60cf121",
   "metadata": {},
   "outputs": [
    {
     "name": "stdout",
     "output_type": "stream",
     "text": [
      "Best MSE-score: -0.005691052336710652\n",
      "Best params: {'alpha': 1, 'solver': 'saga'}\n"
     ]
    }
   ],
   "source": [
    "best_r_w = grid_optimizer(r_w, X_train, y_w_train, param_grid)"
   ]
  },
  {
   "cell_type": "code",
   "execution_count": 20,
   "id": "7f4f346c-03d2-415b-bb13-168993ac2ce1",
   "metadata": {},
   "outputs": [
    {
     "name": "stdout",
     "output_type": "stream",
     "text": [
      "RidgeRegression MSE-score: 0.0025514481824656337\n"
     ]
    }
   ],
   "source": [
    "y_w_pred = best_r_w.predict(X_test)\n",
    "print(f'RidgeRegression MSE-score: {mean_squared_error(y_w_test, y_w_pred)}')"
   ]
  },
  {
   "cell_type": "markdown",
   "id": "f0af8b8d-82c2-45fc-ab1d-871d8c4efbb7",
   "metadata": {},
   "source": [
    "## 2. RandomForestRegression"
   ]
  },
  {
   "cell_type": "markdown",
   "id": "919cc42a-ee28-47d9-89e2-be386dd0fda7",
   "metadata": {},
   "source": [
    "### a) Model for depth prediction"
   ]
  },
  {
   "cell_type": "code",
   "execution_count": 21,
   "id": "399a2096-1116-4cb2-9d48-db76f9906823",
   "metadata": {},
   "outputs": [],
   "source": [
    "rfr_d = RandomForestRegressor(random_state=42, n_jobs=-1)"
   ]
  },
  {
   "cell_type": "code",
   "execution_count": 22,
   "id": "0a116378-cde6-4f90-9688-89822dafc5fc",
   "metadata": {},
   "outputs": [],
   "source": [
    "param_grid = {\n",
    "    'n_estimators': [20, 100, 250, 1000],\n",
    "    'max_depth': [5, 8, 10, 15],\n",
    "    'max_features': ['sqrt', 4],\n",
    "}"
   ]
  },
  {
   "cell_type": "code",
   "execution_count": 23,
   "id": "cb727f64-5c75-4aec-a1be-7cb15e25ca27",
   "metadata": {},
   "outputs": [
    {
     "name": "stdout",
     "output_type": "stream",
     "text": [
      "Best MSE-score: -0.005329916784222797\n",
      "Best params: {'max_depth': 5, 'max_features': 4, 'n_estimators': 100}\n"
     ]
    }
   ],
   "source": [
    "best_rfr_d = grid_optimizer(rfr_d, X_train, y_d_train, param_grid)"
   ]
  },
  {
   "cell_type": "code",
   "execution_count": 24,
   "id": "97edd378-d757-4ce4-9244-4ea73478e08e",
   "metadata": {},
   "outputs": [
    {
     "name": "stdout",
     "output_type": "stream",
     "text": [
      "RandomForestRegression MSE-score: 0.00801286334778967\n"
     ]
    }
   ],
   "source": [
    "y_d_pred = best_rfr_d.predict(X_test)\n",
    "print(f'RandomForestRegression MSE-score: {mean_squared_error(y_d_test, y_d_pred)}')"
   ]
  },
  {
   "cell_type": "markdown",
   "id": "0d29db75-dd46-4adf-b645-02fb32250199",
   "metadata": {},
   "source": [
    "### b) Model for width prediction"
   ]
  },
  {
   "cell_type": "code",
   "execution_count": 25,
   "id": "fecc8fda-2707-4e5c-aba6-c68f06185867",
   "metadata": {},
   "outputs": [],
   "source": [
    "rfr_w = RandomForestRegressor(random_state=42, n_jobs=-1)"
   ]
  },
  {
   "cell_type": "code",
   "execution_count": 26,
   "id": "a97f177d-6e55-49d7-9681-427add112e28",
   "metadata": {},
   "outputs": [],
   "source": [
    "param_grid = {\n",
    "    'n_estimators': [20, 100, 250, 1000],\n",
    "    'max_depth': [5, 8, 10, 15],\n",
    "    'max_features': ['sqrt', 4],\n",
    "}"
   ]
  },
  {
   "cell_type": "code",
   "execution_count": 27,
   "id": "834dc509-376b-4825-87a2-ca57eb65b8dd",
   "metadata": {},
   "outputs": [
    {
     "name": "stdout",
     "output_type": "stream",
     "text": [
      "Best MSE-score: -0.004090362164723459\n",
      "Best params: {'max_depth': 5, 'max_features': 4, 'n_estimators': 100}\n"
     ]
    }
   ],
   "source": [
    "best_rfr_w = grid_optimizer(rfr_w, X_train, y_w_train, param_grid)"
   ]
  },
  {
   "cell_type": "code",
   "execution_count": 28,
   "id": "6d715754-c48b-4627-9259-c79c1bac49e5",
   "metadata": {},
   "outputs": [
    {
     "name": "stdout",
     "output_type": "stream",
     "text": [
      "RandomForestRegression MSE-score: 0.002249071408546027\n"
     ]
    }
   ],
   "source": [
    "y_w_pred = best_rfr_w.predict(X_test)\n",
    "print(f'RandomForestRegression MSE-score: {mean_squared_error(y_w_test, y_w_pred)}')"
   ]
  },
  {
   "cell_type": "markdown",
   "id": "10a129bf-baa6-4801-83d9-c5e1193bdb81",
   "metadata": {},
   "source": [
    "## 3. Neural Network"
   ]
  },
  {
   "cell_type": "code",
   "execution_count": 29,
   "id": "f4ebaa2a-4fd5-49d8-bc32-fbd32f3afa2b",
   "metadata": {},
   "outputs": [],
   "source": [
    "y_train = pd.concat([y_d_train, y_w_train], axis=1)\n",
    "y_test = pd.concat([y_d_test, y_w_test], axis=1)"
   ]
  },
  {
   "cell_type": "code",
   "execution_count": 30,
   "id": "e2a8fcdf-0013-4536-afe9-a6724c34e994",
   "metadata": {},
   "outputs": [
    {
     "data": {
      "text/plain": [
       "(1.58, 2.52)"
      ]
     },
     "execution_count": 30,
     "metadata": {},
     "output_type": "execute_result"
    }
   ],
   "source": [
    "y_d_train.iloc[22], y_w_train.iloc[22]"
   ]
  },
  {
   "cell_type": "code",
   "execution_count": 31,
   "id": "37b247ed-e7c5-4214-b792-46b8caf22e6f",
   "metadata": {},
   "outputs": [],
   "source": [
    "y_train = y_train.to_numpy()\n",
    "y_test = y_test.to_numpy()"
   ]
  },
  {
   "cell_type": "code",
   "execution_count": 32,
   "id": "815572f5-2307-4f3d-b798-22fd6c05e673",
   "metadata": {},
   "outputs": [
    {
     "data": {
      "text/plain": [
       "array([1.58, 2.52])"
      ]
     },
     "execution_count": 32,
     "metadata": {},
     "output_type": "execute_result"
    }
   ],
   "source": [
    "y_train[22]"
   ]
  },
  {
   "cell_type": "code",
   "execution_count": 33,
   "id": "7b039dab-150d-43db-afe9-774d0a1d852f",
   "metadata": {},
   "outputs": [],
   "source": [
    "K.clear_session()"
   ]
  },
  {
   "cell_type": "code",
   "execution_count": 34,
   "id": "abe92896-61a2-48f6-9f83-7e2abe221e37",
   "metadata": {},
   "outputs": [
    {
     "name": "stdout",
     "output_type": "stream",
     "text": [
      "Model: \"sequential\"\n",
      "_________________________________________________________________\n",
      " Layer (type)                Output Shape              Param #   \n",
      "=================================================================\n",
      " dense (Dense)               (None, 6)                 30        \n",
      "                                                                 \n",
      " dense_1 (Dense)             (None, 10)                70        \n",
      "                                                                 \n",
      " dense_2 (Dense)             (None, 10)                110       \n",
      "                                                                 \n",
      " dense_3 (Dense)             (None, 6)                 66        \n",
      "                                                                 \n",
      " dense_4 (Dense)             (None, 4)                 28        \n",
      "                                                                 \n",
      " dense_5 (Dense)             (None, 2)                 10        \n",
      "                                                                 \n",
      "=================================================================\n",
      "Total params: 314\n",
      "Trainable params: 314\n",
      "Non-trainable params: 0\n",
      "_________________________________________________________________\n"
     ]
    }
   ],
   "source": [
    "nn_model = Sequential()\n",
    "nn_model.add(Dense(6, activation='elu', input_shape=(4,)))\n",
    "nn_model.add(Dense(10, activation='elu'))\n",
    "nn_model.add(Dense(10, activation='elu'))\n",
    "nn_model.add(Dense(6, activation='elu'))\n",
    "nn_model.add(Dense(4, activation='elu'))\n",
    "nn_model.add(Dense(2))\n",
    "nn_model.summary()"
   ]
  },
  {
   "cell_type": "code",
   "execution_count": 35,
   "id": "cc665fc1-5a76-4c77-87c1-f3b3aeb9f291",
   "metadata": {},
   "outputs": [],
   "source": [
    "BATCH_SIZE = 4\n",
    "EPOCHS = 100\n",
    "\n",
    "nn_model.compile(\n",
    "  loss='mse', \n",
    "  optimizer=O.Adam(learning_rate=0.01),\n",
    "  metrics=['mean_squared_error']\n",
    ")\n"
   ]
  },
  {
   "cell_type": "code",
   "execution_count": 36,
   "id": "f7a6b3ca-7bd1-443c-b143-01ba40e2ca77",
   "metadata": {},
   "outputs": [],
   "source": [
    "checkpoint = ModelCheckpoint('..\\model\\best_model.hdf5' , monitor = ['val_mean_squared_error'] , verbose = 1  , mode = 'min')\n",
    "earlystop = EarlyStopping(monitor='val_mean_squared_error', patience=10, restore_best_weights=True)\n",
    "callback_reduce_lr = ReduceLROnPlateau(monitor='val_mean_squared_error', factor=0.5, min_lr=1e-6, patience=3, verbose=1)\n",
    "callbacks_list = [checkpoint, earlystop, callback_reduce_lr]"
   ]
  },
  {
   "cell_type": "code",
   "execution_count": 37,
   "id": "4fd5718e-fd27-4cec-8adf-865b1f24e8ac",
   "metadata": {},
   "outputs": [
    {
     "name": "stdout",
     "output_type": "stream",
     "text": [
      "Epoch 1/100\n",
      " 1/15 [=>............................] - ETA: 10s - loss: 2.0993 - mean_squared_error: 2.0993\n",
      "Epoch 1: saving model to ..\\modeest_model.hdf5\n"
     ]
    },
    {
     "ename": "OSError",
     "evalue": "[Errno 22] Unable to create file (unable to open file: name = '..\\model\best_model.hdf5', errno = 22, error message = 'Invalid argument', flags = 13, o_flags = 302)",
     "output_type": "error",
     "traceback": [
      "\u001b[1;31m---------------------------------------------------------------------------\u001b[0m",
      "\u001b[1;31mOSError\u001b[0m                                   Traceback (most recent call last)",
      "\u001b[1;32m~\\AppData\\Local\\Temp/ipykernel_14984/920960478.py\u001b[0m in \u001b[0;36m<module>\u001b[1;34m\u001b[0m\n\u001b[1;32m----> 1\u001b[1;33m history = nn_model.fit(\n\u001b[0m\u001b[0;32m      2\u001b[0m   \u001b[0mX_train\u001b[0m\u001b[1;33m,\u001b[0m \u001b[0my_train\u001b[0m\u001b[1;33m,\u001b[0m  \u001b[1;31m# нормализованные данные\u001b[0m\u001b[1;33m\u001b[0m\u001b[1;33m\u001b[0m\u001b[0m\n\u001b[0;32m      3\u001b[0m   \u001b[0mbatch_size\u001b[0m\u001b[1;33m=\u001b[0m\u001b[0mBATCH_SIZE\u001b[0m\u001b[1;33m,\u001b[0m\u001b[1;33m\u001b[0m\u001b[1;33m\u001b[0m\u001b[0m\n\u001b[0;32m      4\u001b[0m   \u001b[0mepochs\u001b[0m\u001b[1;33m=\u001b[0m\u001b[0mEPOCHS\u001b[0m\u001b[1;33m,\u001b[0m\u001b[1;33m\u001b[0m\u001b[1;33m\u001b[0m\u001b[0m\n\u001b[0;32m      5\u001b[0m   \u001b[0mvalidation_data\u001b[0m\u001b[1;33m=\u001b[0m\u001b[1;33m(\u001b[0m\u001b[0mX_test\u001b[0m\u001b[1;33m,\u001b[0m \u001b[0my_test\u001b[0m\u001b[1;33m)\u001b[0m\u001b[1;33m,\u001b[0m\u001b[1;33m\u001b[0m\u001b[1;33m\u001b[0m\u001b[0m\n",
      "\u001b[1;32mC:\\ProgramData\\Anaconda3\\lib\\site-packages\\keras\\utils\\traceback_utils.py\u001b[0m in \u001b[0;36merror_handler\u001b[1;34m(*args, **kwargs)\u001b[0m\n\u001b[0;32m     68\u001b[0m             \u001b[1;31m# To get the full stack trace, call:\u001b[0m\u001b[1;33m\u001b[0m\u001b[1;33m\u001b[0m\u001b[0m\n\u001b[0;32m     69\u001b[0m             \u001b[1;31m# `tf.debugging.disable_traceback_filtering()`\u001b[0m\u001b[1;33m\u001b[0m\u001b[1;33m\u001b[0m\u001b[0m\n\u001b[1;32m---> 70\u001b[1;33m             \u001b[1;32mraise\u001b[0m \u001b[0me\u001b[0m\u001b[1;33m.\u001b[0m\u001b[0mwith_traceback\u001b[0m\u001b[1;33m(\u001b[0m\u001b[0mfiltered_tb\u001b[0m\u001b[1;33m)\u001b[0m \u001b[1;32mfrom\u001b[0m \u001b[1;32mNone\u001b[0m\u001b[1;33m\u001b[0m\u001b[1;33m\u001b[0m\u001b[0m\n\u001b[0m\u001b[0;32m     71\u001b[0m         \u001b[1;32mfinally\u001b[0m\u001b[1;33m:\u001b[0m\u001b[1;33m\u001b[0m\u001b[1;33m\u001b[0m\u001b[0m\n\u001b[0;32m     72\u001b[0m             \u001b[1;32mdel\u001b[0m \u001b[0mfiltered_tb\u001b[0m\u001b[1;33m\u001b[0m\u001b[1;33m\u001b[0m\u001b[0m\n",
      "\u001b[1;32mC:\\ProgramData\\Anaconda3\\lib\\site-packages\\h5py\\_hl\\files.py\u001b[0m in \u001b[0;36m__init__\u001b[1;34m(self, name, mode, driver, libver, userblock_size, swmr, rdcc_nslots, rdcc_nbytes, rdcc_w0, track_order, fs_strategy, fs_persist, fs_threshold, **kwds)\u001b[0m\n\u001b[0;32m    440\u001b[0m             \u001b[1;32mwith\u001b[0m \u001b[0mphil\u001b[0m\u001b[1;33m:\u001b[0m\u001b[1;33m\u001b[0m\u001b[1;33m\u001b[0m\u001b[0m\n\u001b[0;32m    441\u001b[0m                 \u001b[0mfapl\u001b[0m \u001b[1;33m=\u001b[0m \u001b[0mmake_fapl\u001b[0m\u001b[1;33m(\u001b[0m\u001b[0mdriver\u001b[0m\u001b[1;33m,\u001b[0m \u001b[0mlibver\u001b[0m\u001b[1;33m,\u001b[0m \u001b[0mrdcc_nslots\u001b[0m\u001b[1;33m,\u001b[0m \u001b[0mrdcc_nbytes\u001b[0m\u001b[1;33m,\u001b[0m \u001b[0mrdcc_w0\u001b[0m\u001b[1;33m,\u001b[0m \u001b[1;33m**\u001b[0m\u001b[0mkwds\u001b[0m\u001b[1;33m)\u001b[0m\u001b[1;33m\u001b[0m\u001b[1;33m\u001b[0m\u001b[0m\n\u001b[1;32m--> 442\u001b[1;33m                 fid = make_fid(name, mode, userblock_size,\n\u001b[0m\u001b[0;32m    443\u001b[0m                                fapl, fcpl=make_fcpl(track_order=track_order, fs_strategy=fs_strategy,\n\u001b[0;32m    444\u001b[0m                                fs_persist=fs_persist, fs_threshold=fs_threshold),\n",
      "\u001b[1;32mC:\\ProgramData\\Anaconda3\\lib\\site-packages\\h5py\\_hl\\files.py\u001b[0m in \u001b[0;36mmake_fid\u001b[1;34m(name, mode, userblock_size, fapl, fcpl, swmr)\u001b[0m\n\u001b[0;32m    199\u001b[0m         \u001b[0mfid\u001b[0m \u001b[1;33m=\u001b[0m \u001b[0mh5f\u001b[0m\u001b[1;33m.\u001b[0m\u001b[0mcreate\u001b[0m\u001b[1;33m(\u001b[0m\u001b[0mname\u001b[0m\u001b[1;33m,\u001b[0m \u001b[0mh5f\u001b[0m\u001b[1;33m.\u001b[0m\u001b[0mACC_EXCL\u001b[0m\u001b[1;33m,\u001b[0m \u001b[0mfapl\u001b[0m\u001b[1;33m=\u001b[0m\u001b[0mfapl\u001b[0m\u001b[1;33m,\u001b[0m \u001b[0mfcpl\u001b[0m\u001b[1;33m=\u001b[0m\u001b[0mfcpl\u001b[0m\u001b[1;33m)\u001b[0m\u001b[1;33m\u001b[0m\u001b[1;33m\u001b[0m\u001b[0m\n\u001b[0;32m    200\u001b[0m     \u001b[1;32melif\u001b[0m \u001b[0mmode\u001b[0m \u001b[1;33m==\u001b[0m \u001b[1;34m'w'\u001b[0m\u001b[1;33m:\u001b[0m\u001b[1;33m\u001b[0m\u001b[1;33m\u001b[0m\u001b[0m\n\u001b[1;32m--> 201\u001b[1;33m         \u001b[0mfid\u001b[0m \u001b[1;33m=\u001b[0m \u001b[0mh5f\u001b[0m\u001b[1;33m.\u001b[0m\u001b[0mcreate\u001b[0m\u001b[1;33m(\u001b[0m\u001b[0mname\u001b[0m\u001b[1;33m,\u001b[0m \u001b[0mh5f\u001b[0m\u001b[1;33m.\u001b[0m\u001b[0mACC_TRUNC\u001b[0m\u001b[1;33m,\u001b[0m \u001b[0mfapl\u001b[0m\u001b[1;33m=\u001b[0m\u001b[0mfapl\u001b[0m\u001b[1;33m,\u001b[0m \u001b[0mfcpl\u001b[0m\u001b[1;33m=\u001b[0m\u001b[0mfcpl\u001b[0m\u001b[1;33m)\u001b[0m\u001b[1;33m\u001b[0m\u001b[1;33m\u001b[0m\u001b[0m\n\u001b[0m\u001b[0;32m    202\u001b[0m     \u001b[1;32melif\u001b[0m \u001b[0mmode\u001b[0m \u001b[1;33m==\u001b[0m \u001b[1;34m'a'\u001b[0m\u001b[1;33m:\u001b[0m\u001b[1;33m\u001b[0m\u001b[1;33m\u001b[0m\u001b[0m\n\u001b[0;32m    203\u001b[0m         \u001b[1;31m# Open in append mode (read/write).\u001b[0m\u001b[1;33m\u001b[0m\u001b[1;33m\u001b[0m\u001b[0m\n",
      "\u001b[1;32mh5py\\_objects.pyx\u001b[0m in \u001b[0;36mh5py._objects.with_phil.wrapper\u001b[1;34m()\u001b[0m\n",
      "\u001b[1;32mh5py\\_objects.pyx\u001b[0m in \u001b[0;36mh5py._objects.with_phil.wrapper\u001b[1;34m()\u001b[0m\n",
      "\u001b[1;32mh5py\\h5f.pyx\u001b[0m in \u001b[0;36mh5py.h5f.create\u001b[1;34m()\u001b[0m\n",
      "\u001b[1;31mOSError\u001b[0m: [Errno 22] Unable to create file (unable to open file: name = '..\\model\best_model.hdf5', errno = 22, error message = 'Invalid argument', flags = 13, o_flags = 302)"
     ]
    }
   ],
   "source": [
    "history = nn_model.fit(\n",
    "  X_train, y_train,  # нормализованные данные\n",
    "  batch_size=BATCH_SIZE,\n",
    "  epochs=EPOCHS,\n",
    "  validation_data=(X_test, y_test),\n",
    "  shuffle=False,\n",
    "  callbacks=callbacks_list\n",
    ")\n"
   ]
  },
  {
   "cell_type": "markdown",
   "id": "5d503ccb-8987-4c7d-be99-f0ca5a5c85cf",
   "metadata": {},
   "source": [
    "# Сравнение моделей"
   ]
  },
  {
   "cell_type": "code",
   "execution_count": null,
   "id": "5d37c508-f643-4697-90c9-f40906a3d3f3",
   "metadata": {},
   "outputs": [],
   "source": [
    "# True value"
   ]
  },
  {
   "cell_type": "code",
   "execution_count": null,
   "id": "cd5dc8d9-3d97-45f5-8172-3482b04b3b8e",
   "metadata": {},
   "outputs": [],
   "source": [
    "y_test"
   ]
  },
  {
   "cell_type": "code",
   "execution_count": null,
   "id": "92e3c99e-6042-42cd-b576-0b0d1045110c",
   "metadata": {},
   "outputs": [],
   "source": [
    "rfr_pred = np.array((y_d_pred, y_w_pred)).reshape(-1, 2)\n",
    "rfr_pred.round(decimals=2)"
   ]
  },
  {
   "cell_type": "code",
   "execution_count": null,
   "id": "964186aa-00cb-4be2-9e26-315843ba38db",
   "metadata": {},
   "outputs": [],
   "source": [
    "nn_pred = nn_model.predict(X_test)\n",
    "nn_pred.round(decimals=2)"
   ]
  },
  {
   "cell_type": "code",
   "execution_count": null,
   "id": "40659abc-4a6f-4631-b284-b062090dec0d",
   "metadata": {},
   "outputs": [],
   "source": []
  }
 ],
 "metadata": {
  "kernelspec": {
   "display_name": "Python 3 (ipykernel)",
   "language": "python",
   "name": "python3"
  },
  "language_info": {
   "codemirror_mode": {
    "name": "ipython",
    "version": 3
   },
   "file_extension": ".py",
   "mimetype": "text/x-python",
   "name": "python",
   "nbconvert_exporter": "python",
   "pygments_lexer": "ipython3",
   "version": "3.9.7"
  }
 },
 "nbformat": 4,
 "nbformat_minor": 5
}
